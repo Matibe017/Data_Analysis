{
  "metadata": {
    "language_info": {
      "codemirror_mode": {
        "name": "python",
        "version": 3
      },
      "file_extension": ".py",
      "mimetype": "text/x-python",
      "name": "python",
      "nbconvert_exporter": "python",
      "pygments_lexer": "ipython3",
      "version": "3.8"
    },
    "kernelspec": {
      "name": "python",
      "display_name": "Python (Pyodide)",
      "language": "python"
    }
  },
  "nbformat_minor": 4,
  "nbformat": 4,
  "cells": [
    {
      "cell_type": "code",
      "source": "import pandas as pd",
      "metadata": {
        "trusted": true
      },
      "execution_count": 1,
      "outputs": []
    },
    {
      "cell_type": "code",
      "source": "data = pd.read_csv(r\"1. Weather Data.csv\")",
      "metadata": {
        "trusted": true
      },
      "execution_count": 2,
      "outputs": []
    },
    {
      "cell_type": "code",
      "source": "data",
      "metadata": {
        "trusted": true
      },
      "execution_count": 3,
      "outputs": [
        {
          "execution_count": 3,
          "output_type": "execute_result",
          "data": {
            "text/plain": "             Date/Time  Temp_C  Dew Point Temp_C  Rel Hum_%  Wind Speed_km/h  \\\n0        1/1/2012 0:00    -1.8              -3.9         86                4   \n1        1/1/2012 1:00    -1.8              -3.7         87                4   \n2        1/1/2012 2:00    -1.8              -3.4         89                7   \n3        1/1/2012 3:00    -1.5              -3.2         88                6   \n4        1/1/2012 4:00    -1.5              -3.3         88                7   \n...                ...     ...               ...        ...              ...   \n8779  12/31/2012 19:00     0.1              -2.7         81               30   \n8780  12/31/2012 20:00     0.2              -2.4         83               24   \n8781  12/31/2012 21:00    -0.5              -1.5         93               28   \n8782  12/31/2012 22:00    -0.2              -1.8         89               28   \n8783  12/31/2012 23:00     0.0              -2.1         86               30   \n\n      Visibility_km  Press_kPa               Weather  \n0               8.0     101.24                   Fog  \n1               8.0     101.24                   Fog  \n2               4.0     101.26  Freezing Drizzle,Fog  \n3               4.0     101.27  Freezing Drizzle,Fog  \n4               4.8     101.23                   Fog  \n...             ...        ...                   ...  \n8779            9.7     100.13                  Snow  \n8780            9.7     100.03                  Snow  \n8781            4.8      99.95                  Snow  \n8782            9.7      99.91                  Snow  \n8783           11.3      99.89                  Snow  \n\n[8784 rows x 8 columns]",
            "text/html": "<div>\n<style scoped>\n    .dataframe tbody tr th:only-of-type {\n        vertical-align: middle;\n    }\n\n    .dataframe tbody tr th {\n        vertical-align: top;\n    }\n\n    .dataframe thead th {\n        text-align: right;\n    }\n</style>\n<table border=\"1\" class=\"dataframe\">\n  <thead>\n    <tr style=\"text-align: right;\">\n      <th></th>\n      <th>Date/Time</th>\n      <th>Temp_C</th>\n      <th>Dew Point Temp_C</th>\n      <th>Rel Hum_%</th>\n      <th>Wind Speed_km/h</th>\n      <th>Visibility_km</th>\n      <th>Press_kPa</th>\n      <th>Weather</th>\n    </tr>\n  </thead>\n  <tbody>\n    <tr>\n      <th>0</th>\n      <td>1/1/2012 0:00</td>\n      <td>-1.8</td>\n      <td>-3.9</td>\n      <td>86</td>\n      <td>4</td>\n      <td>8.0</td>\n      <td>101.24</td>\n      <td>Fog</td>\n    </tr>\n    <tr>\n      <th>1</th>\n      <td>1/1/2012 1:00</td>\n      <td>-1.8</td>\n      <td>-3.7</td>\n      <td>87</td>\n      <td>4</td>\n      <td>8.0</td>\n      <td>101.24</td>\n      <td>Fog</td>\n    </tr>\n    <tr>\n      <th>2</th>\n      <td>1/1/2012 2:00</td>\n      <td>-1.8</td>\n      <td>-3.4</td>\n      <td>89</td>\n      <td>7</td>\n      <td>4.0</td>\n      <td>101.26</td>\n      <td>Freezing Drizzle,Fog</td>\n    </tr>\n    <tr>\n      <th>3</th>\n      <td>1/1/2012 3:00</td>\n      <td>-1.5</td>\n      <td>-3.2</td>\n      <td>88</td>\n      <td>6</td>\n      <td>4.0</td>\n      <td>101.27</td>\n      <td>Freezing Drizzle,Fog</td>\n    </tr>\n    <tr>\n      <th>4</th>\n      <td>1/1/2012 4:00</td>\n      <td>-1.5</td>\n      <td>-3.3</td>\n      <td>88</td>\n      <td>7</td>\n      <td>4.8</td>\n      <td>101.23</td>\n      <td>Fog</td>\n    </tr>\n    <tr>\n      <th>...</th>\n      <td>...</td>\n      <td>...</td>\n      <td>...</td>\n      <td>...</td>\n      <td>...</td>\n      <td>...</td>\n      <td>...</td>\n      <td>...</td>\n    </tr>\n    <tr>\n      <th>8779</th>\n      <td>12/31/2012 19:00</td>\n      <td>0.1</td>\n      <td>-2.7</td>\n      <td>81</td>\n      <td>30</td>\n      <td>9.7</td>\n      <td>100.13</td>\n      <td>Snow</td>\n    </tr>\n    <tr>\n      <th>8780</th>\n      <td>12/31/2012 20:00</td>\n      <td>0.2</td>\n      <td>-2.4</td>\n      <td>83</td>\n      <td>24</td>\n      <td>9.7</td>\n      <td>100.03</td>\n      <td>Snow</td>\n    </tr>\n    <tr>\n      <th>8781</th>\n      <td>12/31/2012 21:00</td>\n      <td>-0.5</td>\n      <td>-1.5</td>\n      <td>93</td>\n      <td>28</td>\n      <td>4.8</td>\n      <td>99.95</td>\n      <td>Snow</td>\n    </tr>\n    <tr>\n      <th>8782</th>\n      <td>12/31/2012 22:00</td>\n      <td>-0.2</td>\n      <td>-1.8</td>\n      <td>89</td>\n      <td>28</td>\n      <td>9.7</td>\n      <td>99.91</td>\n      <td>Snow</td>\n    </tr>\n    <tr>\n      <th>8783</th>\n      <td>12/31/2012 23:00</td>\n      <td>0.0</td>\n      <td>-2.1</td>\n      <td>86</td>\n      <td>30</td>\n      <td>11.3</td>\n      <td>99.89</td>\n      <td>Snow</td>\n    </tr>\n  </tbody>\n</table>\n<p>8784 rows × 8 columns</p>\n</div>"
          },
          "metadata": {}
        }
      ]
    },
    {
      "cell_type": "code",
      "source": "data.head()",
      "metadata": {
        "trusted": true
      },
      "execution_count": 5,
      "outputs": [
        {
          "execution_count": 5,
          "output_type": "execute_result",
          "data": {
            "text/plain": "       Date/Time  Temp_C  Dew Point Temp_C  Rel Hum_%  Wind Speed_km/h  \\\n0  1/1/2012 0:00    -1.8              -3.9         86                4   \n1  1/1/2012 1:00    -1.8              -3.7         87                4   \n2  1/1/2012 2:00    -1.8              -3.4         89                7   \n3  1/1/2012 3:00    -1.5              -3.2         88                6   \n4  1/1/2012 4:00    -1.5              -3.3         88                7   \n\n   Visibility_km  Press_kPa               Weather  \n0            8.0     101.24                   Fog  \n1            8.0     101.24                   Fog  \n2            4.0     101.26  Freezing Drizzle,Fog  \n3            4.0     101.27  Freezing Drizzle,Fog  \n4            4.8     101.23                   Fog  ",
            "text/html": "<div>\n<style scoped>\n    .dataframe tbody tr th:only-of-type {\n        vertical-align: middle;\n    }\n\n    .dataframe tbody tr th {\n        vertical-align: top;\n    }\n\n    .dataframe thead th {\n        text-align: right;\n    }\n</style>\n<table border=\"1\" class=\"dataframe\">\n  <thead>\n    <tr style=\"text-align: right;\">\n      <th></th>\n      <th>Date/Time</th>\n      <th>Temp_C</th>\n      <th>Dew Point Temp_C</th>\n      <th>Rel Hum_%</th>\n      <th>Wind Speed_km/h</th>\n      <th>Visibility_km</th>\n      <th>Press_kPa</th>\n      <th>Weather</th>\n    </tr>\n  </thead>\n  <tbody>\n    <tr>\n      <th>0</th>\n      <td>1/1/2012 0:00</td>\n      <td>-1.8</td>\n      <td>-3.9</td>\n      <td>86</td>\n      <td>4</td>\n      <td>8.0</td>\n      <td>101.24</td>\n      <td>Fog</td>\n    </tr>\n    <tr>\n      <th>1</th>\n      <td>1/1/2012 1:00</td>\n      <td>-1.8</td>\n      <td>-3.7</td>\n      <td>87</td>\n      <td>4</td>\n      <td>8.0</td>\n      <td>101.24</td>\n      <td>Fog</td>\n    </tr>\n    <tr>\n      <th>2</th>\n      <td>1/1/2012 2:00</td>\n      <td>-1.8</td>\n      <td>-3.4</td>\n      <td>89</td>\n      <td>7</td>\n      <td>4.0</td>\n      <td>101.26</td>\n      <td>Freezing Drizzle,Fog</td>\n    </tr>\n    <tr>\n      <th>3</th>\n      <td>1/1/2012 3:00</td>\n      <td>-1.5</td>\n      <td>-3.2</td>\n      <td>88</td>\n      <td>6</td>\n      <td>4.0</td>\n      <td>101.27</td>\n      <td>Freezing Drizzle,Fog</td>\n    </tr>\n    <tr>\n      <th>4</th>\n      <td>1/1/2012 4:00</td>\n      <td>-1.5</td>\n      <td>-3.3</td>\n      <td>88</td>\n      <td>7</td>\n      <td>4.8</td>\n      <td>101.23</td>\n      <td>Fog</td>\n    </tr>\n  </tbody>\n</table>\n</div>"
          },
          "metadata": {}
        }
      ]
    },
    {
      "cell_type": "code",
      "source": "data.shape",
      "metadata": {
        "trusted": true
      },
      "execution_count": 7,
      "outputs": [
        {
          "execution_count": 7,
          "output_type": "execute_result",
          "data": {
            "text/plain": "(8784, 8)"
          },
          "metadata": {}
        }
      ]
    },
    {
      "cell_type": "code",
      "source": "data.index",
      "metadata": {
        "trusted": true
      },
      "execution_count": 8,
      "outputs": [
        {
          "execution_count": 8,
          "output_type": "execute_result",
          "data": {
            "text/plain": "RangeIndex(start=0, stop=8784, step=1)"
          },
          "metadata": {}
        }
      ]
    },
    {
      "cell_type": "code",
      "source": "data.columns",
      "metadata": {
        "trusted": true
      },
      "execution_count": 9,
      "outputs": [
        {
          "execution_count": 9,
          "output_type": "execute_result",
          "data": {
            "text/plain": "Index(['Date/Time', 'Temp_C', 'Dew Point Temp_C', 'Rel Hum_%',\n       'Wind Speed_km/h', 'Visibility_km', 'Press_kPa', 'Weather'],\n      dtype='object')"
          },
          "metadata": {}
        }
      ]
    },
    {
      "cell_type": "code",
      "source": "data.dtypes",
      "metadata": {
        "trusted": true
      },
      "execution_count": 11,
      "outputs": [
        {
          "execution_count": 11,
          "output_type": "execute_result",
          "data": {
            "text/plain": "Date/Time            object\nTemp_C              float64\nDew Point Temp_C    float64\nRel Hum_%             int64\nWind Speed_km/h       int64\nVisibility_km       float64\nPress_kPa           float64\nWeather              object\ndtype: object"
          },
          "metadata": {}
        }
      ]
    },
    {
      "cell_type": "code",
      "source": "data['Weather'].unique()",
      "metadata": {
        "trusted": true
      },
      "execution_count": 13,
      "outputs": [
        {
          "execution_count": 13,
          "output_type": "execute_result",
          "data": {
            "text/plain": "array(['Fog', 'Freezing Drizzle,Fog', 'Mostly Cloudy', 'Cloudy', 'Rain',\n       'Rain Showers', 'Mainly Clear', 'Snow Showers', 'Snow', 'Clear',\n       'Freezing Rain,Fog', 'Freezing Rain', 'Freezing Drizzle',\n       'Rain,Snow', 'Moderate Snow', 'Freezing Drizzle,Snow',\n       'Freezing Rain,Snow Grains', 'Snow,Blowing Snow', 'Freezing Fog',\n       'Haze', 'Rain,Fog', 'Drizzle,Fog', 'Drizzle',\n       'Freezing Drizzle,Haze', 'Freezing Rain,Haze', 'Snow,Haze',\n       'Snow,Fog', 'Snow,Ice Pellets', 'Rain,Haze', 'Thunderstorms,Rain',\n       'Thunderstorms,Rain Showers', 'Thunderstorms,Heavy Rain Showers',\n       'Thunderstorms,Rain Showers,Fog', 'Thunderstorms',\n       'Thunderstorms,Rain,Fog',\n       'Thunderstorms,Moderate Rain Showers,Fog', 'Rain Showers,Fog',\n       'Rain Showers,Snow Showers', 'Snow Pellets', 'Rain,Snow,Fog',\n       'Moderate Rain,Fog', 'Freezing Rain,Ice Pellets,Fog',\n       'Drizzle,Ice Pellets,Fog', 'Drizzle,Snow', 'Rain,Ice Pellets',\n       'Drizzle,Snow,Fog', 'Rain,Snow Grains', 'Rain,Snow,Ice Pellets',\n       'Snow Showers,Fog', 'Moderate Snow,Blowing Snow'], dtype=object)"
          },
          "metadata": {}
        }
      ]
    },
    {
      "cell_type": "code",
      "source": "data.nunique()",
      "metadata": {
        "trusted": true
      },
      "execution_count": 14,
      "outputs": [
        {
          "execution_count": 14,
          "output_type": "execute_result",
          "data": {
            "text/plain": "Date/Time           8784\nTemp_C               533\nDew Point Temp_C     489\nRel Hum_%             83\nWind Speed_km/h       34\nVisibility_km         24\nPress_kPa            518\nWeather               50\ndtype: int64"
          },
          "metadata": {}
        }
      ]
    },
    {
      "cell_type": "code",
      "source": "data.count()",
      "metadata": {
        "trusted": true
      },
      "execution_count": 16,
      "outputs": [
        {
          "execution_count": 16,
          "output_type": "execute_result",
          "data": {
            "text/plain": "Date/Time           8784\nTemp_C              8784\nDew Point Temp_C    8784\nRel Hum_%           8784\nWind Speed_km/h     8784\nVisibility_km       8784\nPress_kPa           8784\nWeather             8784\ndtype: int64"
          },
          "metadata": {}
        }
      ]
    },
    {
      "cell_type": "code",
      "source": "data['Weather'].value_counts()",
      "metadata": {
        "trusted": true
      },
      "execution_count": 19,
      "outputs": [
        {
          "execution_count": 19,
          "output_type": "execute_result",
          "data": {
            "text/plain": "Mainly Clear                               2106\nMostly Cloudy                              2069\nCloudy                                     1728\nClear                                      1326\nSnow                                        390\nRain                                        306\nRain Showers                                188\nFog                                         150\nRain,Fog                                    116\nDrizzle,Fog                                  80\nSnow Showers                                 60\nDrizzle                                      41\nSnow,Fog                                     37\nSnow,Blowing Snow                            19\nRain,Snow                                    18\nThunderstorms,Rain Showers                   16\nHaze                                         16\nDrizzle,Snow,Fog                             15\nFreezing Rain                                14\nFreezing Drizzle,Snow                        11\nFreezing Drizzle                              7\nSnow,Ice Pellets                              6\nFreezing Drizzle,Fog                          6\nSnow,Haze                                     5\nFreezing Fog                                  4\nSnow Showers,Fog                              4\nModerate Snow                                 4\nRain,Snow,Ice Pellets                         4\nFreezing Rain,Fog                             4\nFreezing Drizzle,Haze                         3\nRain,Haze                                     3\nThunderstorms,Rain                            3\nThunderstorms,Rain Showers,Fog                3\nFreezing Rain,Haze                            2\nDrizzle,Snow                                  2\nRain Showers,Snow Showers                     2\nThunderstorms                                 2\nModerate Snow,Blowing Snow                    2\nRain Showers,Fog                              1\nThunderstorms,Moderate Rain Showers,Fog       1\nSnow Pellets                                  1\nRain,Snow,Fog                                 1\nModerate Rain,Fog                             1\nFreezing Rain,Ice Pellets,Fog                 1\nDrizzle,Ice Pellets,Fog                       1\nThunderstorms,Rain,Fog                        1\nRain,Ice Pellets                              1\nRain,Snow Grains                              1\nThunderstorms,Heavy Rain Showers              1\nFreezing Rain,Snow Grains                     1\nName: Weather, dtype: int64"
          },
          "metadata": {}
        }
      ]
    },
    {
      "cell_type": "code",
      "source": "data.info()",
      "metadata": {
        "trusted": true
      },
      "execution_count": 20,
      "outputs": [
        {
          "name": "stdout",
          "text": "<class 'pandas.core.frame.DataFrame'>\nRangeIndex: 8784 entries, 0 to 8783\nData columns (total 8 columns):\n #   Column            Non-Null Count  Dtype  \n---  ------            --------------  -----  \n 0   Date/Time         8784 non-null   object \n 1   Temp_C            8784 non-null   float64\n 2   Dew Point Temp_C  8784 non-null   float64\n 3   Rel Hum_%         8784 non-null   int64  \n 4   Wind Speed_km/h   8784 non-null   int64  \n 5   Visibility_km     8784 non-null   float64\n 6   Press_kPa         8784 non-null   float64\n 7   Weather           8784 non-null   object \ndtypes: float64(4), int64(2), object(2)\nmemory usage: 480.4+ KB\n",
          "output_type": "stream"
        }
      ]
    },
    {
      "cell_type": "code",
      "source": "#find all unique 'wind speed' values\ndata['Wind Speed_km/h'].nunique()",
      "metadata": {
        "trusted": true
      },
      "execution_count": 23,
      "outputs": [
        {
          "execution_count": 23,
          "output_type": "execute_result",
          "data": {
            "text/plain": "34"
          },
          "metadata": {}
        }
      ]
    },
    {
      "cell_type": "code",
      "source": "data['Wind Speed_km/h'].unique()",
      "metadata": {
        "trusted": true
      },
      "execution_count": 24,
      "outputs": [
        {
          "execution_count": 24,
          "output_type": "execute_result",
          "data": {
            "text/plain": "array([ 4,  7,  6,  9, 15, 13, 20, 22, 19, 24, 30, 35, 39, 32, 33, 26, 44,\n       43, 48, 37, 28, 17, 11,  0, 83, 70, 57, 46, 41, 52, 50, 63, 54,  2],\n      dtype=int64)"
          },
          "metadata": {}
        }
      ]
    },
    {
      "cell_type": "code",
      "source": "#show when the weather was clear\ndata[data['Weather'] == 'Clear']",
      "metadata": {
        "trusted": true
      },
      "execution_count": 29,
      "outputs": [
        {
          "execution_count": 29,
          "output_type": "execute_result",
          "data": {
            "text/plain": "             Date/Time  Temp_C  Dew Point Temp_C  Rel Hum_%  Wind Speed_km/h  \\\n67      1/3/2012 19:00   -16.9             -24.8         50               24   \n114     1/5/2012 18:00    -7.1             -14.4         56               11   \n115     1/5/2012 19:00    -9.2             -15.4         61                7   \n116     1/5/2012 20:00    -9.8             -15.7         62                9   \n117     1/5/2012 21:00    -9.0             -14.8         63               13   \n...                ...     ...               ...        ...              ...   \n8646   12/26/2012 6:00   -13.4             -14.8         89                4   \n8698  12/28/2012 10:00    -6.1              -8.6         82               19   \n8713   12/29/2012 1:00   -11.9             -13.6         87               11   \n8714   12/29/2012 2:00   -11.8             -13.1         90               13   \n8756  12/30/2012 20:00   -13.8             -16.5         80               24   \n\n      Visibility_km  Press_kPa Weather  \n67             25.0     101.74   Clear  \n114            25.0     100.71   Clear  \n115            25.0     100.80   Clear  \n116            25.0     100.83   Clear  \n117            25.0     100.83   Clear  \n...             ...        ...     ...  \n8646           25.0     102.47   Clear  \n8698           24.1     101.27   Clear  \n8713           25.0     101.31   Clear  \n8714           25.0     101.33   Clear  \n8756           25.0     101.52   Clear  \n\n[1326 rows x 8 columns]",
            "text/html": "<div>\n<style scoped>\n    .dataframe tbody tr th:only-of-type {\n        vertical-align: middle;\n    }\n\n    .dataframe tbody tr th {\n        vertical-align: top;\n    }\n\n    .dataframe thead th {\n        text-align: right;\n    }\n</style>\n<table border=\"1\" class=\"dataframe\">\n  <thead>\n    <tr style=\"text-align: right;\">\n      <th></th>\n      <th>Date/Time</th>\n      <th>Temp_C</th>\n      <th>Dew Point Temp_C</th>\n      <th>Rel Hum_%</th>\n      <th>Wind Speed_km/h</th>\n      <th>Visibility_km</th>\n      <th>Press_kPa</th>\n      <th>Weather</th>\n    </tr>\n  </thead>\n  <tbody>\n    <tr>\n      <th>67</th>\n      <td>1/3/2012 19:00</td>\n      <td>-16.9</td>\n      <td>-24.8</td>\n      <td>50</td>\n      <td>24</td>\n      <td>25.0</td>\n      <td>101.74</td>\n      <td>Clear</td>\n    </tr>\n    <tr>\n      <th>114</th>\n      <td>1/5/2012 18:00</td>\n      <td>-7.1</td>\n      <td>-14.4</td>\n      <td>56</td>\n      <td>11</td>\n      <td>25.0</td>\n      <td>100.71</td>\n      <td>Clear</td>\n    </tr>\n    <tr>\n      <th>115</th>\n      <td>1/5/2012 19:00</td>\n      <td>-9.2</td>\n      <td>-15.4</td>\n      <td>61</td>\n      <td>7</td>\n      <td>25.0</td>\n      <td>100.80</td>\n      <td>Clear</td>\n    </tr>\n    <tr>\n      <th>116</th>\n      <td>1/5/2012 20:00</td>\n      <td>-9.8</td>\n      <td>-15.7</td>\n      <td>62</td>\n      <td>9</td>\n      <td>25.0</td>\n      <td>100.83</td>\n      <td>Clear</td>\n    </tr>\n    <tr>\n      <th>117</th>\n      <td>1/5/2012 21:00</td>\n      <td>-9.0</td>\n      <td>-14.8</td>\n      <td>63</td>\n      <td>13</td>\n      <td>25.0</td>\n      <td>100.83</td>\n      <td>Clear</td>\n    </tr>\n    <tr>\n      <th>...</th>\n      <td>...</td>\n      <td>...</td>\n      <td>...</td>\n      <td>...</td>\n      <td>...</td>\n      <td>...</td>\n      <td>...</td>\n      <td>...</td>\n    </tr>\n    <tr>\n      <th>8646</th>\n      <td>12/26/2012 6:00</td>\n      <td>-13.4</td>\n      <td>-14.8</td>\n      <td>89</td>\n      <td>4</td>\n      <td>25.0</td>\n      <td>102.47</td>\n      <td>Clear</td>\n    </tr>\n    <tr>\n      <th>8698</th>\n      <td>12/28/2012 10:00</td>\n      <td>-6.1</td>\n      <td>-8.6</td>\n      <td>82</td>\n      <td>19</td>\n      <td>24.1</td>\n      <td>101.27</td>\n      <td>Clear</td>\n    </tr>\n    <tr>\n      <th>8713</th>\n      <td>12/29/2012 1:00</td>\n      <td>-11.9</td>\n      <td>-13.6</td>\n      <td>87</td>\n      <td>11</td>\n      <td>25.0</td>\n      <td>101.31</td>\n      <td>Clear</td>\n    </tr>\n    <tr>\n      <th>8714</th>\n      <td>12/29/2012 2:00</td>\n      <td>-11.8</td>\n      <td>-13.1</td>\n      <td>90</td>\n      <td>13</td>\n      <td>25.0</td>\n      <td>101.33</td>\n      <td>Clear</td>\n    </tr>\n    <tr>\n      <th>8756</th>\n      <td>12/30/2012 20:00</td>\n      <td>-13.8</td>\n      <td>-16.5</td>\n      <td>80</td>\n      <td>24</td>\n      <td>25.0</td>\n      <td>101.52</td>\n      <td>Clear</td>\n    </tr>\n  </tbody>\n</table>\n<p>1326 rows × 8 columns</p>\n</div>"
          },
          "metadata": {}
        }
      ]
    },
    {
      "cell_type": "code",
      "source": "#show when the wind speed was 4\ndata[data['Wind Speed_km/h'] == 4]",
      "metadata": {
        "trusted": true
      },
      "execution_count": 32,
      "outputs": [
        {
          "execution_count": 32,
          "output_type": "execute_result",
          "data": {
            "text/plain": "             Date/Time  Temp_C  Dew Point Temp_C  Rel Hum_%  Wind Speed_km/h  \\\n0        1/1/2012 0:00    -1.8              -3.9         86                4   \n1        1/1/2012 1:00    -1.8              -3.7         87                4   \n96       1/5/2012 0:00    -8.8             -11.7         79                4   \n101      1/5/2012 5:00    -7.0              -9.5         82                4   \n146      1/7/2012 2:00    -8.1             -11.1         79                4   \n...                ...     ...               ...        ...              ...   \n8768   12/31/2012 8:00    -8.6             -10.3         87                4   \n8769   12/31/2012 9:00    -8.1              -9.6         89                4   \n8770  12/31/2012 10:00    -7.4              -8.9         89                4   \n8772  12/31/2012 12:00    -5.8              -7.5         88                4   \n8773  12/31/2012 13:00    -4.6              -6.6         86                4   \n\n      Visibility_km  Press_kPa       Weather  \n0               8.0     101.24           Fog  \n1               8.0     101.24           Fog  \n96              9.7     100.32          Snow  \n101             4.0     100.19          Snow  \n146            19.3     100.15        Cloudy  \n...             ...        ...           ...  \n8768            3.2     101.14  Snow Showers  \n8769            2.4     101.09          Snow  \n8770            6.4     101.05      Snow,Fog  \n8772           12.9     100.78          Snow  \n8773           12.9     100.63          Snow  \n\n[474 rows x 8 columns]",
            "text/html": "<div>\n<style scoped>\n    .dataframe tbody tr th:only-of-type {\n        vertical-align: middle;\n    }\n\n    .dataframe tbody tr th {\n        vertical-align: top;\n    }\n\n    .dataframe thead th {\n        text-align: right;\n    }\n</style>\n<table border=\"1\" class=\"dataframe\">\n  <thead>\n    <tr style=\"text-align: right;\">\n      <th></th>\n      <th>Date/Time</th>\n      <th>Temp_C</th>\n      <th>Dew Point Temp_C</th>\n      <th>Rel Hum_%</th>\n      <th>Wind Speed_km/h</th>\n      <th>Visibility_km</th>\n      <th>Press_kPa</th>\n      <th>Weather</th>\n    </tr>\n  </thead>\n  <tbody>\n    <tr>\n      <th>0</th>\n      <td>1/1/2012 0:00</td>\n      <td>-1.8</td>\n      <td>-3.9</td>\n      <td>86</td>\n      <td>4</td>\n      <td>8.0</td>\n      <td>101.24</td>\n      <td>Fog</td>\n    </tr>\n    <tr>\n      <th>1</th>\n      <td>1/1/2012 1:00</td>\n      <td>-1.8</td>\n      <td>-3.7</td>\n      <td>87</td>\n      <td>4</td>\n      <td>8.0</td>\n      <td>101.24</td>\n      <td>Fog</td>\n    </tr>\n    <tr>\n      <th>96</th>\n      <td>1/5/2012 0:00</td>\n      <td>-8.8</td>\n      <td>-11.7</td>\n      <td>79</td>\n      <td>4</td>\n      <td>9.7</td>\n      <td>100.32</td>\n      <td>Snow</td>\n    </tr>\n    <tr>\n      <th>101</th>\n      <td>1/5/2012 5:00</td>\n      <td>-7.0</td>\n      <td>-9.5</td>\n      <td>82</td>\n      <td>4</td>\n      <td>4.0</td>\n      <td>100.19</td>\n      <td>Snow</td>\n    </tr>\n    <tr>\n      <th>146</th>\n      <td>1/7/2012 2:00</td>\n      <td>-8.1</td>\n      <td>-11.1</td>\n      <td>79</td>\n      <td>4</td>\n      <td>19.3</td>\n      <td>100.15</td>\n      <td>Cloudy</td>\n    </tr>\n    <tr>\n      <th>...</th>\n      <td>...</td>\n      <td>...</td>\n      <td>...</td>\n      <td>...</td>\n      <td>...</td>\n      <td>...</td>\n      <td>...</td>\n      <td>...</td>\n    </tr>\n    <tr>\n      <th>8768</th>\n      <td>12/31/2012 8:00</td>\n      <td>-8.6</td>\n      <td>-10.3</td>\n      <td>87</td>\n      <td>4</td>\n      <td>3.2</td>\n      <td>101.14</td>\n      <td>Snow Showers</td>\n    </tr>\n    <tr>\n      <th>8769</th>\n      <td>12/31/2012 9:00</td>\n      <td>-8.1</td>\n      <td>-9.6</td>\n      <td>89</td>\n      <td>4</td>\n      <td>2.4</td>\n      <td>101.09</td>\n      <td>Snow</td>\n    </tr>\n    <tr>\n      <th>8770</th>\n      <td>12/31/2012 10:00</td>\n      <td>-7.4</td>\n      <td>-8.9</td>\n      <td>89</td>\n      <td>4</td>\n      <td>6.4</td>\n      <td>101.05</td>\n      <td>Snow,Fog</td>\n    </tr>\n    <tr>\n      <th>8772</th>\n      <td>12/31/2012 12:00</td>\n      <td>-5.8</td>\n      <td>-7.5</td>\n      <td>88</td>\n      <td>4</td>\n      <td>12.9</td>\n      <td>100.78</td>\n      <td>Snow</td>\n    </tr>\n    <tr>\n      <th>8773</th>\n      <td>12/31/2012 13:00</td>\n      <td>-4.6</td>\n      <td>-6.6</td>\n      <td>86</td>\n      <td>4</td>\n      <td>12.9</td>\n      <td>100.63</td>\n      <td>Snow</td>\n    </tr>\n  </tbody>\n</table>\n<p>474 rows × 8 columns</p>\n</div>"
          },
          "metadata": {}
        }
      ]
    },
    {
      "cell_type": "code",
      "source": "#find out all the null value in the data\ndata.isnull().sum()",
      "metadata": {
        "trusted": true
      },
      "execution_count": 36,
      "outputs": [
        {
          "execution_count": 36,
          "output_type": "execute_result",
          "data": {
            "text/plain": "Date/Time           0\nTemp_C              0\nDew Point Temp_C    0\nRel Hum_%           0\nWind Speed_km/h     0\nVisibility_km       0\nPress_kPa           0\nWeather             0\ndtype: int64"
          },
          "metadata": {}
        }
      ]
    },
    {
      "cell_type": "code",
      "source": "#rename the column Weather to Weather Condition\ndata.rename(columns = {'Weather' : 'Weather Condition'}, inplace = True)",
      "metadata": {
        "trusted": true
      },
      "execution_count": 39,
      "outputs": []
    },
    {
      "cell_type": "code",
      "source": "data.head()",
      "metadata": {
        "trusted": true
      },
      "execution_count": 40,
      "outputs": [
        {
          "execution_count": 40,
          "output_type": "execute_result",
          "data": {
            "text/plain": "       Date/Time  Temp_C  Dew Point Temp_C  Rel Hum_%  Wind Speed_km/h  \\\n0  1/1/2012 0:00    -1.8              -3.9         86                4   \n1  1/1/2012 1:00    -1.8              -3.7         87                4   \n2  1/1/2012 2:00    -1.8              -3.4         89                7   \n3  1/1/2012 3:00    -1.5              -3.2         88                6   \n4  1/1/2012 4:00    -1.5              -3.3         88                7   \n\n   Visibility_km  Press_kPa     Weather Condition  \n0            8.0     101.24                   Fog  \n1            8.0     101.24                   Fog  \n2            4.0     101.26  Freezing Drizzle,Fog  \n3            4.0     101.27  Freezing Drizzle,Fog  \n4            4.8     101.23                   Fog  ",
            "text/html": "<div>\n<style scoped>\n    .dataframe tbody tr th:only-of-type {\n        vertical-align: middle;\n    }\n\n    .dataframe tbody tr th {\n        vertical-align: top;\n    }\n\n    .dataframe thead th {\n        text-align: right;\n    }\n</style>\n<table border=\"1\" class=\"dataframe\">\n  <thead>\n    <tr style=\"text-align: right;\">\n      <th></th>\n      <th>Date/Time</th>\n      <th>Temp_C</th>\n      <th>Dew Point Temp_C</th>\n      <th>Rel Hum_%</th>\n      <th>Wind Speed_km/h</th>\n      <th>Visibility_km</th>\n      <th>Press_kPa</th>\n      <th>Weather Condition</th>\n    </tr>\n  </thead>\n  <tbody>\n    <tr>\n      <th>0</th>\n      <td>1/1/2012 0:00</td>\n      <td>-1.8</td>\n      <td>-3.9</td>\n      <td>86</td>\n      <td>4</td>\n      <td>8.0</td>\n      <td>101.24</td>\n      <td>Fog</td>\n    </tr>\n    <tr>\n      <th>1</th>\n      <td>1/1/2012 1:00</td>\n      <td>-1.8</td>\n      <td>-3.7</td>\n      <td>87</td>\n      <td>4</td>\n      <td>8.0</td>\n      <td>101.24</td>\n      <td>Fog</td>\n    </tr>\n    <tr>\n      <th>2</th>\n      <td>1/1/2012 2:00</td>\n      <td>-1.8</td>\n      <td>-3.4</td>\n      <td>89</td>\n      <td>7</td>\n      <td>4.0</td>\n      <td>101.26</td>\n      <td>Freezing Drizzle,Fog</td>\n    </tr>\n    <tr>\n      <th>3</th>\n      <td>1/1/2012 3:00</td>\n      <td>-1.5</td>\n      <td>-3.2</td>\n      <td>88</td>\n      <td>6</td>\n      <td>4.0</td>\n      <td>101.27</td>\n      <td>Freezing Drizzle,Fog</td>\n    </tr>\n    <tr>\n      <th>4</th>\n      <td>1/1/2012 4:00</td>\n      <td>-1.5</td>\n      <td>-3.3</td>\n      <td>88</td>\n      <td>7</td>\n      <td>4.8</td>\n      <td>101.23</td>\n      <td>Fog</td>\n    </tr>\n  </tbody>\n</table>\n</div>"
          },
          "metadata": {}
        }
      ]
    },
    {
      "cell_type": "code",
      "source": "#Mean visibility\ndata['Visibility_km'].mean()",
      "metadata": {
        "trusted": true
      },
      "execution_count": 43,
      "outputs": [
        {
          "execution_count": 43,
          "output_type": "execute_result",
          "data": {
            "text/plain": "27.664446721311478"
          },
          "metadata": {}
        }
      ]
    },
    {
      "cell_type": "code",
      "source": "#standard deviation of pressure\ndata['Press_kPa'].std()",
      "metadata": {
        "trusted": true
      },
      "execution_count": 45,
      "outputs": [
        {
          "execution_count": 45,
          "output_type": "execute_result",
          "data": {
            "text/plain": "0.8440047459486483"
          },
          "metadata": {}
        }
      ]
    },
    {
      "cell_type": "code",
      "source": "#Variance of Relative Humidity\ndata['Rel Hum_%'].var()",
      "metadata": {
        "trusted": true
      },
      "execution_count": 47,
      "outputs": [
        {
          "execution_count": 47,
          "output_type": "execute_result",
          "data": {
            "text/plain": "286.24855019850196"
          },
          "metadata": {}
        }
      ]
    },
    {
      "cell_type": "code",
      "source": "#instances when snow was recorded\ndata[data['Weather Condition'].str.contains('Snow')]",
      "metadata": {
        "trusted": true
      },
      "execution_count": 53,
      "outputs": [
        {
          "execution_count": 53,
          "output_type": "execute_result",
          "data": {
            "text/plain": "             Date/Time  Temp_C  Dew Point Temp_C  Rel Hum_%  Wind Speed_km/h  \\\n41      1/2/2012 17:00    -2.1              -9.5         57               22   \n44      1/2/2012 20:00    -5.6             -13.4         54               24   \n45      1/2/2012 21:00    -5.8             -12.8         58               26   \n47      1/2/2012 23:00    -7.4             -14.1         59               17   \n48       1/3/2012 0:00    -9.0             -16.0         57               28   \n...                ...     ...               ...        ...              ...   \n8779  12/31/2012 19:00     0.1              -2.7         81               30   \n8780  12/31/2012 20:00     0.2              -2.4         83               24   \n8781  12/31/2012 21:00    -0.5              -1.5         93               28   \n8782  12/31/2012 22:00    -0.2              -1.8         89               28   \n8783  12/31/2012 23:00     0.0              -2.1         86               30   \n\n      Visibility_km  Press_kPa Weather Condition  \n41             25.0      99.66      Snow Showers  \n44             25.0     100.07      Snow Showers  \n45             25.0     100.15      Snow Showers  \n47             19.3     100.27      Snow Showers  \n48             25.0     100.35      Snow Showers  \n...             ...        ...               ...  \n8779            9.7     100.13              Snow  \n8780            9.7     100.03              Snow  \n8781            4.8      99.95              Snow  \n8782            9.7      99.91              Snow  \n8783           11.3      99.89              Snow  \n\n[583 rows x 8 columns]",
            "text/html": "<div>\n<style scoped>\n    .dataframe tbody tr th:only-of-type {\n        vertical-align: middle;\n    }\n\n    .dataframe tbody tr th {\n        vertical-align: top;\n    }\n\n    .dataframe thead th {\n        text-align: right;\n    }\n</style>\n<table border=\"1\" class=\"dataframe\">\n  <thead>\n    <tr style=\"text-align: right;\">\n      <th></th>\n      <th>Date/Time</th>\n      <th>Temp_C</th>\n      <th>Dew Point Temp_C</th>\n      <th>Rel Hum_%</th>\n      <th>Wind Speed_km/h</th>\n      <th>Visibility_km</th>\n      <th>Press_kPa</th>\n      <th>Weather Condition</th>\n    </tr>\n  </thead>\n  <tbody>\n    <tr>\n      <th>41</th>\n      <td>1/2/2012 17:00</td>\n      <td>-2.1</td>\n      <td>-9.5</td>\n      <td>57</td>\n      <td>22</td>\n      <td>25.0</td>\n      <td>99.66</td>\n      <td>Snow Showers</td>\n    </tr>\n    <tr>\n      <th>44</th>\n      <td>1/2/2012 20:00</td>\n      <td>-5.6</td>\n      <td>-13.4</td>\n      <td>54</td>\n      <td>24</td>\n      <td>25.0</td>\n      <td>100.07</td>\n      <td>Snow Showers</td>\n    </tr>\n    <tr>\n      <th>45</th>\n      <td>1/2/2012 21:00</td>\n      <td>-5.8</td>\n      <td>-12.8</td>\n      <td>58</td>\n      <td>26</td>\n      <td>25.0</td>\n      <td>100.15</td>\n      <td>Snow Showers</td>\n    </tr>\n    <tr>\n      <th>47</th>\n      <td>1/2/2012 23:00</td>\n      <td>-7.4</td>\n      <td>-14.1</td>\n      <td>59</td>\n      <td>17</td>\n      <td>19.3</td>\n      <td>100.27</td>\n      <td>Snow Showers</td>\n    </tr>\n    <tr>\n      <th>48</th>\n      <td>1/3/2012 0:00</td>\n      <td>-9.0</td>\n      <td>-16.0</td>\n      <td>57</td>\n      <td>28</td>\n      <td>25.0</td>\n      <td>100.35</td>\n      <td>Snow Showers</td>\n    </tr>\n    <tr>\n      <th>...</th>\n      <td>...</td>\n      <td>...</td>\n      <td>...</td>\n      <td>...</td>\n      <td>...</td>\n      <td>...</td>\n      <td>...</td>\n      <td>...</td>\n    </tr>\n    <tr>\n      <th>8779</th>\n      <td>12/31/2012 19:00</td>\n      <td>0.1</td>\n      <td>-2.7</td>\n      <td>81</td>\n      <td>30</td>\n      <td>9.7</td>\n      <td>100.13</td>\n      <td>Snow</td>\n    </tr>\n    <tr>\n      <th>8780</th>\n      <td>12/31/2012 20:00</td>\n      <td>0.2</td>\n      <td>-2.4</td>\n      <td>83</td>\n      <td>24</td>\n      <td>9.7</td>\n      <td>100.03</td>\n      <td>Snow</td>\n    </tr>\n    <tr>\n      <th>8781</th>\n      <td>12/31/2012 21:00</td>\n      <td>-0.5</td>\n      <td>-1.5</td>\n      <td>93</td>\n      <td>28</td>\n      <td>4.8</td>\n      <td>99.95</td>\n      <td>Snow</td>\n    </tr>\n    <tr>\n      <th>8782</th>\n      <td>12/31/2012 22:00</td>\n      <td>-0.2</td>\n      <td>-1.8</td>\n      <td>89</td>\n      <td>28</td>\n      <td>9.7</td>\n      <td>99.91</td>\n      <td>Snow</td>\n    </tr>\n    <tr>\n      <th>8783</th>\n      <td>12/31/2012 23:00</td>\n      <td>0.0</td>\n      <td>-2.1</td>\n      <td>86</td>\n      <td>30</td>\n      <td>11.3</td>\n      <td>99.89</td>\n      <td>Snow</td>\n    </tr>\n  </tbody>\n</table>\n<p>583 rows × 8 columns</p>\n</div>"
          },
          "metadata": {}
        }
      ]
    },
    {
      "cell_type": "code",
      "source": "data[(data['Wind Speed_km/h'] > 24) & (data['Visibility_km'] == 25)]",
      "metadata": {
        "trusted": true
      },
      "execution_count": 56,
      "outputs": [
        {
          "execution_count": 56,
          "output_type": "execute_result",
          "data": {
            "text/plain": "             Date/Time  Temp_C  Dew Point Temp_C  Rel Hum_%  Wind Speed_km/h  \\\n23      1/1/2012 23:00     5.3               2.0         79               30   \n24       1/2/2012 0:00     5.2               1.5         77               35   \n25       1/2/2012 1:00     4.6               0.0         72               39   \n26       1/2/2012 2:00     3.9              -0.9         71               32   \n27       1/2/2012 3:00     3.7              -1.5         69               33   \n...                ...     ...               ...        ...              ...   \n8705  12/28/2012 17:00    -8.6             -12.0         76               26   \n8753  12/30/2012 17:00   -12.1             -15.8         74               28   \n8755  12/30/2012 19:00   -13.4             -16.5         77               26   \n8759  12/30/2012 23:00   -12.1             -15.1         78               28   \n8760   12/31/2012 0:00   -11.1             -14.4         77               26   \n\n      Visibility_km  Press_kPa Weather Condition  \n23             25.0      99.31            Cloudy  \n24             25.0      99.26      Rain Showers  \n25             25.0      99.26            Cloudy  \n26             25.0      99.26     Mostly Cloudy  \n27             25.0      99.30     Mostly Cloudy  \n...             ...        ...               ...  \n8705           25.0     101.34      Mainly Clear  \n8753           25.0     101.26      Mainly Clear  \n8755           25.0     101.47      Mainly Clear  \n8759           25.0     101.52     Mostly Cloudy  \n8760           25.0     101.51            Cloudy  \n\n[308 rows x 8 columns]",
            "text/html": "<div>\n<style scoped>\n    .dataframe tbody tr th:only-of-type {\n        vertical-align: middle;\n    }\n\n    .dataframe tbody tr th {\n        vertical-align: top;\n    }\n\n    .dataframe thead th {\n        text-align: right;\n    }\n</style>\n<table border=\"1\" class=\"dataframe\">\n  <thead>\n    <tr style=\"text-align: right;\">\n      <th></th>\n      <th>Date/Time</th>\n      <th>Temp_C</th>\n      <th>Dew Point Temp_C</th>\n      <th>Rel Hum_%</th>\n      <th>Wind Speed_km/h</th>\n      <th>Visibility_km</th>\n      <th>Press_kPa</th>\n      <th>Weather Condition</th>\n    </tr>\n  </thead>\n  <tbody>\n    <tr>\n      <th>23</th>\n      <td>1/1/2012 23:00</td>\n      <td>5.3</td>\n      <td>2.0</td>\n      <td>79</td>\n      <td>30</td>\n      <td>25.0</td>\n      <td>99.31</td>\n      <td>Cloudy</td>\n    </tr>\n    <tr>\n      <th>24</th>\n      <td>1/2/2012 0:00</td>\n      <td>5.2</td>\n      <td>1.5</td>\n      <td>77</td>\n      <td>35</td>\n      <td>25.0</td>\n      <td>99.26</td>\n      <td>Rain Showers</td>\n    </tr>\n    <tr>\n      <th>25</th>\n      <td>1/2/2012 1:00</td>\n      <td>4.6</td>\n      <td>0.0</td>\n      <td>72</td>\n      <td>39</td>\n      <td>25.0</td>\n      <td>99.26</td>\n      <td>Cloudy</td>\n    </tr>\n    <tr>\n      <th>26</th>\n      <td>1/2/2012 2:00</td>\n      <td>3.9</td>\n      <td>-0.9</td>\n      <td>71</td>\n      <td>32</td>\n      <td>25.0</td>\n      <td>99.26</td>\n      <td>Mostly Cloudy</td>\n    </tr>\n    <tr>\n      <th>27</th>\n      <td>1/2/2012 3:00</td>\n      <td>3.7</td>\n      <td>-1.5</td>\n      <td>69</td>\n      <td>33</td>\n      <td>25.0</td>\n      <td>99.30</td>\n      <td>Mostly Cloudy</td>\n    </tr>\n    <tr>\n      <th>...</th>\n      <td>...</td>\n      <td>...</td>\n      <td>...</td>\n      <td>...</td>\n      <td>...</td>\n      <td>...</td>\n      <td>...</td>\n      <td>...</td>\n    </tr>\n    <tr>\n      <th>8705</th>\n      <td>12/28/2012 17:00</td>\n      <td>-8.6</td>\n      <td>-12.0</td>\n      <td>76</td>\n      <td>26</td>\n      <td>25.0</td>\n      <td>101.34</td>\n      <td>Mainly Clear</td>\n    </tr>\n    <tr>\n      <th>8753</th>\n      <td>12/30/2012 17:00</td>\n      <td>-12.1</td>\n      <td>-15.8</td>\n      <td>74</td>\n      <td>28</td>\n      <td>25.0</td>\n      <td>101.26</td>\n      <td>Mainly Clear</td>\n    </tr>\n    <tr>\n      <th>8755</th>\n      <td>12/30/2012 19:00</td>\n      <td>-13.4</td>\n      <td>-16.5</td>\n      <td>77</td>\n      <td>26</td>\n      <td>25.0</td>\n      <td>101.47</td>\n      <td>Mainly Clear</td>\n    </tr>\n    <tr>\n      <th>8759</th>\n      <td>12/30/2012 23:00</td>\n      <td>-12.1</td>\n      <td>-15.1</td>\n      <td>78</td>\n      <td>28</td>\n      <td>25.0</td>\n      <td>101.52</td>\n      <td>Mostly Cloudy</td>\n    </tr>\n    <tr>\n      <th>8760</th>\n      <td>12/31/2012 0:00</td>\n      <td>-11.1</td>\n      <td>-14.4</td>\n      <td>77</td>\n      <td>26</td>\n      <td>25.0</td>\n      <td>101.51</td>\n      <td>Cloudy</td>\n    </tr>\n  </tbody>\n</table>\n<p>308 rows × 8 columns</p>\n</div>"
          },
          "metadata": {}
        }
      ]
    }
  ]
}